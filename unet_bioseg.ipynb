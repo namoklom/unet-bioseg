{
  "cells": [
    {
      "cell_type": "markdown",
      "metadata": {
        "id": "1czVdIlqnImH"
      },
      "source": [
        "# **U-Net for Neuron Segmentation in Biomedical Imaging**"
      ]
    },
    {
      "cell_type": "markdown",
      "metadata": {
        "id": "1KD3ZgLs80vY"
      },
      "source": [
        "### Goals\n",
        "The goal of this project is to implement a U-Net model for segmenting neurons in electron microscopy (EM) images. This is a supervised learning task that involves pixel-wise classification to identify neural structures within biomedical images.\n",
        "\n",
        "Although this task does not involve generative models or unsupervised learning, it shares structural components with image-to-image translation models such as Pix2Pix. Understanding this architecture lays the foundation for working with advanced generative systems.\n",
        "\n",
        "### Learning Objectives\n",
        "1. Build a complete U-Net model using PyTorch\n",
        "2. Apply the model to a real-world segmentation problem using a biomedical dataset\n",
        "3. Analyze model performance in challenging segmentation scenarios\n",
        "4. Develop an understanding of encoder-decoder architectures and skip connections\n",
        "\n"
      ]
    },
    {
      "cell_type": "markdown",
      "metadata": {
        "id": "wU8DDM6l9rZb"
      },
      "source": [
        "## Getting Started\n",
        "We will start by importing libraries, defining a visualization function, and getting the neural dataset that we will be using.\n"
      ]
    },
    {
      "cell_type": "code",
      "execution_count": null,
      "metadata": {
        "id": "JfkorNJrnmNO"
      },
      "outputs": [],
      "source": [
        "import torch\n",
        "import numpy as np\n",
        "from torch import nn\n",
        "from torchvision import transforms\n",
        "from tqdm.auto import tqdm\n",
        "from torchvision import transforms\n",
        "from torchvision.utils import make_grid\n",
        "from torch.utils.data import DataLoader\n",
        "import matplotlib.pyplot as plt\n",
        "import imageio.v3 as iio\n",
        "from skimage import io\n",
        "\n",
        "torch.manual_seed(0)\n",
        "\n",
        "def show_tensor_images(image_tensor, num_images=25, size=(1, 28, 28)):\n",
        "    image_shifted = image_tensor\n",
        "    image_unflat = image_shifted.detach().cpu().view(-1, *size)\n",
        "    image_grid = make_grid(image_unflat[:num_images], nrow=4)\n",
        "    plt.imshow(image_grid.permute(1, 2, 0).squeeze())\n",
        "    plt.show()"
      ]
    },
    {
      "cell_type": "markdown",
      "metadata": {
        "id": "ElJ7n7x1itOX"
      },
      "source": [
        "## U-Net Architecture\n",
        "Now we can build our U-Net from its components. The figure below is from the paper, [*U-Net: Convolutional Networks for Biomedical Image Segmentation*](https://arxiv.org/abs/1505.04597), by Ronneberger et al. 2015. It shows the U-Net architecture and how it contracts and then expands.\n",
        "\n",
        "<!-- \"[i]t consists of a contracting path (left side) and an expansive path (right side)\" (Renneberger, 2015) -->\n",
        "\n",
        "![Figure 1 from the paper, U-Net: Convolutional Networks for Biomedical Image Segmentation](https://drive.google.com/uc?export=view&id=1XgJRexE2CmsetRYyTLA7L8dsEwx7aQZY)\n",
        "\n",
        "In other words, images are first fed through many convolutional layers which reduce height and width while increasing the channels, which the authors refer to as the \"contracting path.\" For example, a set of two 2 x 2 convolutions with a stride of 2, will take a 1 x 28 x 28 (channels, height, width) grayscale image and result in a 2 x 14 x 14 representation. The \"expanding path\" does the opposite, gradually growing the image with fewer and fewer channels."
      ]
    },
    {
      "cell_type": "markdown",
      "metadata": {
        "id": "l3UVfNXvPC15"
      },
      "source": [
        "## Contracting Path\n",
        "We will first implement the contracting blocks for the contracting path. This path is the encoder section of the U-Net, which has several downsampling steps as part of it. The authors give more detail of the remaining parts in the following paragraph from the paper (Renneberger, 2015):\n",
        "\n",
        ">The contracting path follows the typical architecture of a convolutional network. It consists of the repeated application of two 3 x 3 convolutions (unpadded convolutions), each followed by a rectified linear unit (ReLU) and a 2 x 2 max pooling operation with stride 2 for downsampling. At each downsampling step we double the number of feature channels."
      ]
    },
    {
      "cell_type": "code",
      "execution_count": null,
      "metadata": {
        "id": "xvY4ZNyUviY9"
      },
      "outputs": [],
      "source": [
        "class ContractingBlock(nn.Module):\n",
        "    def __init__(self, input_channels):\n",
        "        super(ContractingBlock, self).__init__()\n",
        "        self.conv1 = nn.Conv2d(input_channels, input_channels * 2, kernel_size=3)\n",
        "        self.conv2 = nn.Conv2d(input_channels * 2, input_channels * 2, kernel_size=3)\n",
        "        self.activation = nn.ReLU()\n",
        "        self.maxpool = nn.MaxPool2d(kernel_size=2, stride=2)\n",
        "\n",
        "    def forward(self, x):\n",
        "        x = self.conv1(x)\n",
        "        x = self.activation(x)\n",
        "        x = self.conv2(x)\n",
        "        x = self.activation(x)\n",
        "        x = self.maxpool(x)\n",
        "        return x\n",
        "\n",
        "    def get_self(self):\n",
        "        return self"
      ]
    },
    {
      "cell_type": "code",
      "execution_count": null,
      "metadata": {
        "id": "F8tXrgXkMdcV"
      },
      "outputs": [],
      "source": [
        "def test_contracting_block(test_samples=100, test_channels=10, test_size=50):\n",
        "    test_block = ContractingBlock(test_channels)\n",
        "    test_in = torch.randn(test_samples, test_channels, test_size, test_size)\n",
        "    test_out_conv1 = test_block.conv1(test_in)\n",
        "    assert tuple(test_out_conv1.shape) == (test_samples, test_channels * 2, test_size - 2, test_size - 2)\n",
        "    assert torch.all(test_block.activation(test_out_conv1) >= 0)\n",
        "    assert torch.max(test_block.activation(test_out_conv1)) >= 1\n",
        "    test_out_conv2 = test_block.conv2(test_out_conv1)\n",
        "    assert tuple(test_out_conv2.shape) == (test_samples, test_channels * 2, test_size - 4, test_size - 4)\n",
        "    test_out = test_block(test_in)\n",
        "    assert tuple(test_out.shape) == (test_samples, test_channels * 2, test_size // 2 - 2, test_size // 2 - 2)\n",
        "\n",
        "test_contracting_block()\n",
        "test_contracting_block(10, 9, 8)\n",
        "print(\"Success!\")"
      ]
    },
    {
      "cell_type": "markdown",
      "metadata": {
        "id": "ONEnbpQcvi_p"
      },
      "source": [
        "## Expanding Path\n",
        "Next, we will implement the expanding blocks for the expanding path. This is the decoding section of U-Net which has several upsampling steps as part of it. In order to do this, we'll also need to write a crop function. This is so we can crop the image from the *contracting path* and concatenate it to the current image on the expanding path—this is to form a skip connection. Again, the details are from the paper (Renneberger, 2015):\n",
        "\n",
        ">Every step in the expanding path consists of an upsampling of the feature map followed by a 2 x 2 convolution (“up-convolution”) that halves the number of feature channels, a concatenation with the correspondingly cropped feature map from the contracting path, and two 3 x 3 convolutions, each followed by a ReLU. The cropping is necessary due to the loss of border pixels in every convolution."
      ]
    },
    {
      "cell_type": "code",
      "execution_count": null,
      "metadata": {
        "id": "oM0mKJah4dIs"
      },
      "outputs": [],
      "source": [
        "def crop(image, new_shape):\n",
        "    middle_height = image.shape[2] // 2\n",
        "    middle_width = image.shape[3] // 2\n",
        "    starting_height = middle_height - new_shape[2] // 2\n",
        "    final_height = starting_height + new_shape[2]\n",
        "    starting_width = middle_width - new_shape[3] // 2\n",
        "    final_width = starting_width + new_shape[3]\n",
        "    cropped_image = image[:, :, starting_height:final_height, starting_width:final_width]\n",
        "    return cropped_image"
      ]
    },
    {
      "cell_type": "code",
      "execution_count": null,
      "metadata": {
        "id": "jCg8bohTGb0F"
      },
      "outputs": [],
      "source": [
        "def test_expanding_block_crop(test_samples=100, test_channels=10, test_size=100):\n",
        "    skip_con_x = torch.randn(test_samples, test_channels, test_size + 6, test_size + 6)\n",
        "    x = torch.randn(test_samples, test_channels, test_size, test_size)\n",
        "    cropped = crop(skip_con_x, x.shape)\n",
        "    assert tuple(cropped.shape) == (test_samples, test_channels, test_size, test_size)\n",
        "\n",
        "    test_meshgrid = torch.meshgrid([torch.arange(0, test_size), torch.arange(0, test_size)])\n",
        "    test_meshgrid = test_meshgrid[0] + test_meshgrid[1]\n",
        "    test_meshgrid = test_meshgrid[None, None, :, :].float()\n",
        "    cropped = crop(test_meshgrid, torch.Size([1, 1, test_size // 2, test_size // 2]))\n",
        "    assert cropped.max() == (test_size - 1) * 2 - test_size // 2\n",
        "    assert cropped.min() == test_size // 2\n",
        "    assert cropped.mean() == test_size - 1\n",
        "\n",
        "test_expanding_block_crop()\n",
        "print(\"Success!\")"
      ]
    },
    {
      "cell_type": "code",
      "execution_count": null,
      "metadata": {
        "id": "THIysNYBGb0G"
      },
      "outputs": [],
      "source": [
        "class ExpandingBlock(nn.Module):\n",
        "    def __init__(self, input_channels):\n",
        "        super(ExpandingBlock, self).__init__()\n",
        "        self.upsample = nn.Upsample(scale_factor=2, mode='bilinear', align_corners=True)\n",
        "        self.conv1 = nn.Conv2d(input_channels, input_channels // 2, kernel_size=2, stride=1)\n",
        "        self.conv2 = nn.Conv2d(input_channels, input_channels // 2, kernel_size=3, stride=1)\n",
        "        self.conv3 = nn.Conv2d(input_channels // 2, input_channels // 2, kernel_size=3, stride=1)\n",
        "        self.activation = nn.ReLU()\n",
        "\n",
        "    def forward(self, x, skip_con_x):\n",
        "        x = self.upsample(x)\n",
        "        x = self.conv1(x)\n",
        "        skip_con_x = crop(skip_con_x, x.shape)\n",
        "        x = torch.cat([x, skip_con_x], axis=1)\n",
        "        x = self.conv2(x)\n",
        "        x = self.activation(x)\n",
        "        x = self.conv3(x)\n",
        "        x = self.activation(x)\n",
        "        return x\n",
        "\n",
        "    def get_self(self):\n",
        "        return self"
      ]
    },
    {
      "cell_type": "code",
      "execution_count": null,
      "metadata": {
        "id": "QlZYSY11WbiG"
      },
      "outputs": [],
      "source": [
        "def test_expanding_block(test_samples=100, test_channels=10, test_size=50):\n",
        "    test_block = ExpandingBlock(test_channels)\n",
        "    skip_con_x = torch.randn(test_samples, test_channels // 2, test_size * 2 + 6, test_size * 2 + 6)\n",
        "    x = torch.randn(test_samples, test_channels, test_size, test_size)\n",
        "    x = test_block.upsample(x)\n",
        "    x = test_block.conv1(x)\n",
        "    assert tuple(x.shape) == (test_samples, test_channels // 2,  test_size * 2 - 1, test_size * 2 - 1)\n",
        "    orginal_x = crop(skip_con_x, x.shape)\n",
        "    x = torch.cat([x, orginal_x], axis=1)\n",
        "    x = test_block.conv2(x)\n",
        "    assert tuple(x.shape) == (test_samples, test_channels // 2,  test_size * 2 - 3, test_size * 2 - 3)\n",
        "    x = test_block.conv3(x)\n",
        "    assert tuple(x.shape) == (test_samples, test_channels // 2,  test_size * 2 - 5, test_size * 2 - 5)\n",
        "    x = test_block.activation(x)\n",
        "\n",
        "test_expanding_block()\n",
        "print(\"Success!\")"
      ]
    },
    {
      "cell_type": "markdown",
      "metadata": {
        "id": "5FS_ABXD4dpT"
      },
      "source": [
        "## Final Layer\n",
        "Now we will write the final feature mapping block, which takes in a tensor with arbitrarily many tensors and produces a tensor with the same number of pixels but with the correct number of output channels. From the paper (Renneberger, 2015):\n",
        "\n",
        ">At the final layer a 1x1 convolution is used to map each 64-component feature vector to the desired number of classes. In total the network has 23 convolutional layers.\n"
      ]
    },
    {
      "cell_type": "code",
      "execution_count": null,
      "metadata": {
        "id": "GXCDIjai-0C5"
      },
      "outputs": [],
      "source": [
        "class FeatureMapBlock(nn.Module):\n",
        "    def __init__(self, input_channels, output_channels):\n",
        "        super(FeatureMapBlock, self).__init__()\n",
        "        self.conv = nn.Conv2d(input_channels, output_channels, kernel_size=1)\n",
        "\n",
        "    def forward(self, x):\n",
        "        x = self.conv(x)\n",
        "        return x"
      ]
    },
    {
      "cell_type": "code",
      "execution_count": null,
      "metadata": {
        "id": "gDkrByFGjkdE"
      },
      "outputs": [],
      "source": [
        "assert tuple(FeatureMapBlock(10, 60)(torch.randn(1, 10, 10, 10)).shape) == (1, 60, 10, 10)\n",
        "print(\"Success!\")"
      ]
    },
    {
      "cell_type": "markdown",
      "metadata": {
        "id": "EeFmtgvD__eA"
      },
      "source": [
        "## U-Net\n",
        "\n",
        "Now we can put it all together! Here, we'll write a `UNet` class which will combine a series of the three kinds of blocks we've implemented."
      ]
    },
    {
      "cell_type": "code",
      "execution_count": null,
      "metadata": {
        "id": "Y8iyZqtVABPM"
      },
      "outputs": [],
      "source": [
        "class UNet(nn.Module):\n",
        "    def __init__(self, input_channels, output_channels, hidden_channels=64):\n",
        "        super(UNet, self).__init__()\n",
        "        self.upfeature = FeatureMapBlock(input_channels, hidden_channels)\n",
        "        self.contract1 = ContractingBlock(hidden_channels)\n",
        "        self.contract2 = ContractingBlock(hidden_channels * 2)\n",
        "        self.contract3 = ContractingBlock(hidden_channels * 4)\n",
        "        self.contract4 = ContractingBlock(hidden_channels * 8)\n",
        "        self.expand1 = ExpandingBlock(hidden_channels * 16)\n",
        "        self.expand2 = ExpandingBlock(hidden_channels * 8)\n",
        "        self.expand3 = ExpandingBlock(hidden_channels * 4)\n",
        "        self.expand4 = ExpandingBlock(hidden_channels * 2)\n",
        "        self.downfeature = FeatureMapBlock(hidden_channels, output_channels)\n",
        "\n",
        "    def forward(self, x):\n",
        "        x0 = self.upfeature(x)\n",
        "        x1 = self.contract1(x0)\n",
        "        x2 = self.contract2(x1)\n",
        "        x3 = self.contract3(x2)\n",
        "        x4 = self.contract4(x3)\n",
        "        x5 = self.expand1(x4, x3)\n",
        "        x6 = self.expand2(x5, x2)\n",
        "        x7 = self.expand3(x6, x1)\n",
        "        x8 = self.expand4(x7, x0)\n",
        "        xn = self.downfeature(x8)\n",
        "        return xn"
      ]
    },
    {
      "cell_type": "code",
      "execution_count": null,
      "metadata": {
        "id": "CdL5DE90jMEU"
      },
      "outputs": [],
      "source": [
        "test_unet = UNet(1, 3)\n",
        "assert tuple(test_unet(torch.randn(1, 1, 256, 256)).shape) == (1, 3, 117, 117)\n",
        "print(\"Success!\")"
      ]
    },
    {
      "cell_type": "markdown",
      "metadata": {
        "id": "qRk_8azSq3tF"
      },
      "source": [
        "## Training\n",
        "\n",
        "Finally, we will put this into action!\n",
        "Remember that these are our parameters:\n",
        "  *   criterion: the loss function\n",
        "  *   n_epochs: the number of times we iterate through the entire dataset when training\n",
        "  *   input_dim: the number of channels of the input image\n",
        "  *   label_dim: the number of channels of the output image\n",
        "  *   display_step: how often to display/visualize the images\n",
        "  *   batch_size: the number of images per forward/backward pass\n",
        "  *   lr: the learning rate\n",
        "  *   initial_shape: the size of the input image (in pixels)\n",
        "  *   target_shape: the size of the output image (in pixels)\n",
        "  *   device: the device type\n",
        "\n",
        "This should take only a few minutes to train!"
      ]
    },
    {
      "cell_type": "code",
      "execution_count": null,
      "metadata": {
        "id": "UXptQZcwrBrq"
      },
      "outputs": [],
      "source": [
        "criterion = nn.BCEWithLogitsLoss()\n",
        "n_epochs = 200\n",
        "input_dim = 1\n",
        "label_dim = 1\n",
        "display_step = 20\n",
        "batch_size = 4\n",
        "lr = 0.0002\n",
        "initial_shape = 512\n",
        "target_shape = 373\n",
        "device = 'cuda'"
      ]
    },
    {
      "cell_type": "code",
      "execution_count": null,
      "metadata": {
        "id": "PNAK2XqMJ419"
      },
      "outputs": [],
      "source": [
        "volumes = torch.Tensor(iio.imread('/content/content/train-volume.tif'))[:, None, :, :] / 255\n",
        "labels = torch.Tensor(iio.imread('/content/content/train-labels.tif'))[:, None, :, :] / 255\n",
        "labels = crop(labels, torch.Size([len(labels), 1, target_shape, target_shape]))\n",
        "dataset = torch.utils.data.TensorDataset(volumes, labels)"
      ]
    },
    {
      "cell_type": "code",
      "execution_count": null,
      "metadata": {
        "id": "fy6UBV60HtnY"
      },
      "outputs": [],
      "source": [
        "def train():\n",
        "    dataloader = DataLoader(\n",
        "        dataset,\n",
        "        batch_size=batch_size,\n",
        "        shuffle=True)\n",
        "    unet = UNet(input_dim, label_dim).to(device)\n",
        "    unet_opt = torch.optim.Adam(unet.parameters(), lr=lr)\n",
        "    cur_step = 0\n",
        "\n",
        "    for epoch in range(n_epochs):\n",
        "        for real, labels in tqdm(dataloader):\n",
        "            cur_batch_size = len(real)\n",
        "            real = real.to(device)\n",
        "            labels = labels.to(device)\n",
        "\n",
        "            unet_opt.zero_grad()\n",
        "            pred = unet(real)\n",
        "            unet_loss = criterion(pred, labels)\n",
        "            unet_loss.backward()\n",
        "            unet_opt.step()\n",
        "\n",
        "            if cur_step % display_step == 0:\n",
        "                print(f\"Epoch {epoch}: Step {cur_step}: U-Net loss: {unet_loss.item()}\")\n",
        "                show_tensor_images(\n",
        "                    crop(real, torch.Size([len(real), 1, target_shape, target_shape])),\n",
        "                    size=(input_dim, target_shape, target_shape)\n",
        "                )\n",
        "                show_tensor_images(labels, size=(label_dim, target_shape, target_shape))\n",
        "                show_tensor_images(torch.sigmoid(pred), size=(label_dim, target_shape, target_shape))\n",
        "            cur_step += 1\n",
        "\n",
        "train()"
      ]
    }
  ],
  "metadata": {
    "accelerator": "GPU",
    "colab": {
      "provenance": []
    },
    "coursera": {
      "schema_names": [
        "GANSC3-2A"
      ]
    },
    "kernelspec": {
      "display_name": "Python 3",
      "language": "python",
      "name": "python3"
    },
    "language_info": {
      "codemirror_mode": {
        "name": "ipython",
        "version": 3
      },
      "file_extension": ".py",
      "mimetype": "text/x-python",
      "name": "python",
      "nbconvert_exporter": "python",
      "pygments_lexer": "ipython3",
      "version": "3.8.10"
    }
  },
  "nbformat": 4,
  "nbformat_minor": 0
}